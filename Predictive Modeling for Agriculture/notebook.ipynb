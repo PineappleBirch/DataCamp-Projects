{
 "cells": [
  {
   "source": [
    "# Sowing Success: How Machine Learning Helps Farmers Select the Best Crops\n",
    "\n",
    "![Farmer in a field](farmer_in_a_field.jpg)\n",
    "\n",
    "Measuring essential soil metrics such as nitrogen, phosphorous, potassium levels, and pH value is an important aspect of assessing soil condition. However, it can be an expensive and time-consuming process, which can cause farmers to prioritize which metrics to measure based on their budget constraints.\n",
    "\n",
    "Farmers have various options when it comes to deciding which crop to plant each season. Their primary objective is to maximize the yield of their crops, taking into account different factors. One crucial factor that affects crop growth is the condition of the soil in the field, which can be assessed by measuring basic elements such as nitrogen and potassium levels. Each crop has an ideal soil condition that ensures optimal growth and maximum yield.\n",
    "\n",
    "A farmer reached out to you as a machine learning expert for assistance in selecting the best crop for his field. They've provided you with a dataset called `soil_measures.csv`, which contains:\n",
    "\n",
    "- `\"N\"`: Nitrogen content ratio in the soil\n",
    "- `\"P\"`: Phosphorous content ratio in the soil\n",
    "- `\"K\"`: Potassium content ratio in the soil\n",
    "- `\"pH\"` value of the soil\n",
    "- `\"crop\"`: categorical values that contain various crops (target variable).\n",
    "\n",
    "Each row in this dataset represents various measures of the soil in a particular field. Based on these measurements, the crop specified in the `\"crop\"` column is the optimal choice for that field.  \n",
    "\n",
    "In this project, you will build multi-class classification models to predict the type of `\"crop\"` and identify the single most importance feature for predictive performance."
   ],
   "metadata": {},
   "id": "d3d001b0-2e2f-4b58-8442-99520bad831f",
   "cell_type": "markdown"
  },
  {
   "source": [
    "# Imports\n",
    "import pandas as pd\n",
    "from sklearn.linear_model import LogisticRegression\n",
    "from sklearn.model_selection import train_test_split\n",
    "from sklearn import metrics\n",
    "\n",
    "# Loading data\n",
    "crops = pd.read_csv(\"soil_measures.csv\")\n",
    "\n",
    "# Performing EDA\n",
    "sep = 50 * '_'\n",
    "\n",
    "print(crops.head())\n",
    "print(sep)\n",
    "print(crops.describe())\n",
    "print(sep)\n",
    "print(crops.info())\n",
    "print(sep)\n",
    "print(crops['crop'].unique())\n",
    "print(f\"Total values: {crops['crop'].value_counts().sum()}\")\n",
    "print(sep)\n",
    "print(crops.isna().sum())\n",
    "total_nans = crops.isna().sum().sum()\n",
    "if total_nans == 0:\n",
    "    print('There are no missing values to handle.')\n",
    "else:\n",
    "    print(f'There are {total_nans} total missing values we need to handle.')\n",
    "print(sep)\n",
    "\n",
    "# Splitting data into train and test data\n",
    "X = crops.drop('crop', axis=1)\n",
    "y = crops['crop']\n",
    "\n",
    "X_train, X_test, y_train, y_test = train_test_split(X, y, test_size=0.3, random_state=42)\n",
    "\n",
    "\n",
    "# Predictive modelling\n",
    "feature_performance = {}\n",
    "\n",
    "for feature in ['N', 'P', 'K', 'ph']:\n",
    "    \n",
    "    log_reg = LogisticRegression(multi_class='multinomial')\n",
    "    log_reg.fit(X_train[[feature]], y_train)\n",
    "    y_pred = log_reg.predict(X_test[[feature]])\n",
    "    \n",
    "    feature_performance[feature] = metrics.f1_score(y_test, y_pred, average='weighted')\n",
    "    \n",
    "    print(f'F1-score for {feature} is {feature_performance[feature]}')\n",
    "\n",
    "# Results\n",
    "best_feature_string = sorted(feature_performance, key=feature_performance.get, reverse=True)[0]\n",
    "best_predictive_feature = {best_feature_string: feature_performance[best_feature_string]}\n",
    "\n",
    "best_predictive_feature"
   ],
   "metadata": {
    "id": "bA5ajAmk7XH6",
    "executionTime": 4502,
    "lastSuccessfullyExecutedCode": "# All required libraries are imported here for you.\nimport pandas as pd\nfrom sklearn.linear_model import LogisticRegression\nfrom sklearn.model_selection import train_test_split\nfrom sklearn import metrics\n\n# Load the dataset\ncrops = pd.read_csv(\"soil_measures.csv\")\n\n# Write your code here\nsep = 50 * '_'\n\nprint(crops.head())\nprint(sep)\nprint(crops.describe())\nprint(sep)\nprint(crops.info())\nprint(sep)\nprint(crops['crop'].unique())\nprint(f\"Total values: {crops['crop'].value_counts().sum()}\")\nprint(sep)\nprint(crops.isna().sum())\ntotal_nans = crops.isna().sum().sum()\nif total_nans == 0:\n    print('There are no missing values to handle.')\nelse:\n    print(f'There are {total_nans} total missing values we need to handle.')\nprint(sep)\n\n\nX = crops.drop('crop', axis=1)\ny = crops['crop']\n\nX_train, X_test, y_train, y_test = train_test_split(X, y, test_size=0.3, random_state=42)\n\nfeature_performance = {}\n\nfor feature in ['N', 'P', 'K', 'ph']:\n    \n    log_reg = LogisticRegression(multi_class='multinomial')\n    log_reg.fit(X_train[[feature]], y_train)\n    y_pred = log_reg.predict(X_test[[feature]])\n    \n    feature_performance[feature] = metrics.f1_score(y_test, y_pred, average='weighted')\n    \n    print(f'F1-score for {feature} is {feature_performance[feature]}')\n    \nbest_feature_string = sorted(feature_performance, key=feature_performance.get, reverse=True)[0]\nbest_predictive_feature = {best_feature_string: feature_performance[best_feature_string]}\n\nbest_predictive_feature",
    "executionCancelledAt": null,
    "lastExecutedAt": 1727622086312,
    "lastScheduledRunId": null,
    "lastExecutedByKernel": "069480d4-7c0b-4987-84b5-21a49a81254f",
    "outputsMetadata": {
     "0": {
      "height": 616,
      "type": "stream"
     }
    }
   },
   "id": "d0eb4f16-5a99-460d-a5ba-706b7ef0bbe7",
   "cell_type": "code",
   "execution_count": 48,
   "outputs": [
    {
     "output_type": "stream",
     "name": "stdout",
     "text": "    N   P   K        ph  crop\n0  90  42  43  6.502985  rice\n1  85  58  41  7.038096  rice\n2  60  55  44  7.840207  rice\n3  74  35  40  6.980401  rice\n4  78  42  42  7.628473  rice\n__________________________________________________\n                 N            P            K           ph\ncount  2200.000000  2200.000000  2200.000000  2200.000000\nmean     50.551818    53.362727    48.149091     6.469480\nstd      36.917334    32.985883    50.647931     0.773938\nmin       0.000000     5.000000     5.000000     3.504752\n25%      21.000000    28.000000    20.000000     5.971693\n50%      37.000000    51.000000    32.000000     6.425045\n75%      84.250000    68.000000    49.000000     6.923643\nmax     140.000000   145.000000   205.000000     9.935091\n__________________________________________________\n<class 'pandas.core.frame.DataFrame'>\nRangeIndex: 2200 entries, 0 to 2199\nData columns (total 5 columns):\n #   Column  Non-Null Count  Dtype  \n---  ------  --------------  -----  \n 0   N       2200 non-null   int64  \n 1   P       2200 non-null   int64  \n 2   K       2200 non-null   int64  \n 3   ph      2200 non-null   float64\n 4   crop    2200 non-null   object \ndtypes: float64(1), int64(3), object(1)\nmemory usage: 86.1+ KB\nNone\n__________________________________________________\n['rice' 'maize' 'chickpea' 'kidneybeans' 'pigeonpeas' 'mothbeans'\n 'mungbean' 'blackgram' 'lentil' 'pomegranate' 'banana' 'mango' 'grapes'\n 'watermelon' 'muskmelon' 'apple' 'orange' 'papaya' 'coconut' 'cotton'\n 'jute' 'coffee']\nTotal values: 2200\n__________________________________________________\nN       0\nP       0\nK       0\nph      0\ncrop    0\ndtype: int64\nThere are no missing values to handle.\n__________________________________________________\nF1-score for N is 0.09563234706123282\nF1-score for P is 0.12412171549213567\nF1-score for K is 0.23467465114240763\nF1-score for ph is 0.06787631271947597\n"
    },
    {
     "output_type": "execute_result",
     "data": {
      "text/plain": "{'K': 0.23467465114240763}"
     },
     "metadata": {},
     "execution_count": 48
    }
   ]
  }
 ],
 "metadata": {
  "colab": {
   "name": "Welcome to DataCamp Workspaces.ipynb",
   "provenance": []
  },
  "kernelspec": {
   "display_name": "Python 3 (ipykernel)",
   "language": "python",
   "name": "python3"
  },
  "language_info": {
   "codemirror_mode": {
    "name": "ipython",
    "version": 3
   },
   "file_extension": ".py",
   "mimetype": "text/x-python",
   "name": "python",
   "nbconvert_exporter": "python",
   "pygments_lexer": "ipython3",
   "version": "3.8.10"
  }
 },
 "nbformat": 4,
 "nbformat_minor": 5
}
